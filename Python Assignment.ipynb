{
 "cells": [
  {
   "cell_type": "markdown",
   "metadata": {},
   "source": [
    "1. With a given integral number n, write a program to generate a dictionary that contains (i, i*i) such that is an integral number between 1 and n (both included). and then the program should print the dictionary.\n",
    "Suppose the following input is supplied to the program:\n",
    "8\n",
    "Then, the output should be:\n",
    "{1: 1, 2: 4, 3: 9, 4: 16, 5: 25, 6: 36, 7: 49, 8: 64}"
   ]
  },
  {
   "cell_type": "code",
   "execution_count": 1,
   "metadata": {},
   "outputs": [
    {
     "name": "stdout",
     "output_type": "stream",
     "text": [
      "3\n",
      "{1: 1, 2: 4, 3: 9}\n"
     ]
    }
   ],
   "source": [
    "#1\n",
    "n = int(input())\n",
    "dict = {}\n",
    "for i in range(1, n+1):\n",
    "    dict[i] = i*i\n",
    "print(dict)"
   ]
  },
  {
   "cell_type": "markdown",
   "metadata": {},
   "source": [
    "2. Write a program which accepts a sequence of comma-separated numbers from console and generate a list and a tuple which contains every number.\n",
    "Suppose the following input is supplied to the program:\n",
    "34,67,55,33,12,98\n",
    "Then, the output should be:\n",
    "['34', '67', '55', '33', '12', '98']\n",
    "('34', '67', '55', '33', '12', '98')"
   ]
  },
  {
   "cell_type": "code",
   "execution_count": 31,
   "metadata": {},
   "outputs": [
    {
     "name": "stdout",
     "output_type": "stream",
     "text": [
      "235, 2344, 132, 257, 22\n",
      "List : ['235', '2344', '132', '257', '22']\n",
      "Tuple : ('235', '2344', '132', '257', '22')\n"
     ]
    }
   ],
   "source": [
    "#2\n",
    "str = input()\n",
    "list1 = str.split(', ')\n",
    "print('List :', list1)\n",
    "print('Tuple :', tuple(list1))"
   ]
  },
  {
   "cell_type": "markdown",
   "metadata": {},
   "source": [
    "3. Write a program which takes 2 digits, X,Y as input and generates a 2-dimensional array. The element value in the i-th row and j-th column of the array should be i*j.\n",
    "Note: i=0,1.., X-1; j=0,1,¡Y-1.\n",
    "Example\n",
    "Suppose the following inputs are given to the program:\n",
    "3,5\n",
    "Then, the output of the program should be:\n",
    "[[0, 0, 0, 0, 0], [0, 1, 2, 3, 4], [0, 2, 4, 6, 8]]"
   ]
  },
  {
   "cell_type": "code",
   "execution_count": 1,
   "metadata": {},
   "outputs": [
    {
     "name": "stdout",
     "output_type": "stream",
     "text": [
      "3\n",
      "5\n",
      "[[0, 0, 0, 0, 0], [0, 1, 2, 3, 4], [0, 2, 4, 6, 8]]\n"
     ]
    }
   ],
   "source": [
    "#3\n",
    "x = int(input())\n",
    "y = int(input())\n",
    "A = []\n",
    "a = []\n",
    "for i in range(x):\n",
    "    for j in range(y):\n",
    "        a.append(i*j)\n",
    "    A.append(a)\n",
    "    a = []\n",
    "print(A)"
   ]
  },
  {
   "cell_type": "markdown",
   "metadata": {},
   "source": [
    "4. Write a program that accepts a comma separated sequence of words as input and prints the words in a comma-separated sequence after sorting them alphabetically.\n",
    "Suppose the following input is supplied to the program:\n",
    "without,hello,bag,world\n",
    "Then, the output should be:\n",
    "bag,hello,without,world"
   ]
  },
  {
   "cell_type": "code",
   "execution_count": 32,
   "metadata": {},
   "outputs": [
    {
     "name": "stdout",
     "output_type": "stream",
     "text": [
      "book,table,chair,bed,sofa\n",
      "Answer is : bed,book,chair,sofa,table\n"
     ]
    }
   ],
   "source": [
    "#4\n",
    "str = input()\n",
    "#print('Input is :', str)\n",
    "list1 = str.split(',')\n",
    "#print('List :', list1)\n",
    "list1.sort()\n",
    "#print('Sorted List :', list1)\n",
    "\n",
    "str2 = ''\n",
    "for i in list1:\n",
    "    str2 = str2 + i\n",
    "    str2 = str2 + ','\n",
    "str2 = str2[:-1]\n",
    "print('Answer is :', str2)"
   ]
  },
  {
   "cell_type": "markdown",
   "metadata": {},
   "source": [
    "5. Write a program that accepts a sequence of whitespace separated words as input and prints the words after removing all duplicate words and sorting them alphanumerically.\n",
    "Suppose the following input is supplied to the program:\n",
    "hello world and practice makes perfect and hello world again\n",
    "Then, the output should be:\n",
    "again and hello makes perfect practice world"
   ]
  },
  {
   "cell_type": "code",
   "execution_count": 33,
   "metadata": {},
   "outputs": [
    {
     "name": "stdout",
     "output_type": "stream",
     "text": [
      "hello world i am ameya\n",
      "Answer is : am ameya hello i world\n"
     ]
    }
   ],
   "source": [
    "#5\n",
    "str = input()\n",
    "#print('Input is :', str)\n",
    "list1 = str.split(' ')\n",
    "#print('List :', list1)\n",
    "list1.sort()\n",
    "#print('Sorted List :', list1)\n",
    "\n",
    "str2 = ''\n",
    "for i in list1:\n",
    "    str2 = str2 + i\n",
    "    str2 = str2 + ' '\n",
    "str2 = str2[:-1]\n",
    "print('Answer is :', str2)"
   ]
  },
  {
   "cell_type": "markdown",
   "metadata": {},
   "source": [
    "6. Write a program, which will find all such numbers between 2000 and 3000 (both included) such that each digit of the number is an even number. eg. 2468, 2464, 2002"
   ]
  },
  {
   "cell_type": "code",
   "execution_count": 34,
   "metadata": {},
   "outputs": [
    {
     "name": "stdout",
     "output_type": "stream",
     "text": [
      "[2000, 2002, 2004, 2006, 2008, 2020, 2022, 2024, 2026, 2028, 2040, 2042, 2044, 2046, 2048, 2060, 2062, 2064, 2066, 2068, 2080, 2082, 2084, 2086, 2088, 2200, 2202, 2204, 2206, 2208, 2220, 2222, 2224, 2226, 2228, 2240, 2242, 2244, 2246, 2248, 2260, 2262, 2264, 2266, 2268, 2280, 2282, 2284, 2286, 2288, 2400, 2402, 2404, 2406, 2408, 2420, 2422, 2424, 2426, 2428, 2440, 2442, 2444, 2446, 2448, 2460, 2462, 2464, 2466, 2468, 2480, 2482, 2484, 2486, 2488, 2600, 2602, 2604, 2606, 2608, 2620, 2622, 2624, 2626, 2628, 2640, 2642, 2644, 2646, 2648, 2660, 2662, 2664, 2666, 2668, 2680, 2682, 2684, 2686, 2688, 2800, 2802, 2804, 2806, 2808, 2820, 2822, 2824, 2826, 2828, 2840, 2842, 2844, 2846, 2848, 2860, 2862, 2864, 2866, 2868, 2880, 2882, 2884, 2886, 2888, 3000]\n"
     ]
    }
   ],
   "source": [
    "#6\n",
    "list1 = []\n",
    "for i in range(2000, 3000):\n",
    "    d2 = (i//100)%10\n",
    "    d3 = (i//10)%10\n",
    "    d4 = i%10\n",
    "    if d2%2==0 and d3%2==0 and d4%2==0:\n",
    "        list1.append(i)\n",
    "list1.append(3000)\n",
    "print(list1)"
   ]
  },
  {
   "cell_type": "code",
   "execution_count": 17,
   "metadata": {},
   "outputs": [
    {
     "data": {
      "text/plain": [
       "True"
      ]
     },
     "execution_count": 17,
     "metadata": {},
     "output_type": "execute_result"
    }
   ],
   "source": [
    "str1 = '{}'.format(345)\n",
    "str1.isdigit()"
   ]
  },
  {
   "cell_type": "markdown",
   "metadata": {},
   "source": [
    "8. Write a program that computes the net amount of a bank account based a transaction log from console input. The transaction log format is shown as following:\n",
    "D 100\n",
    "W 200\n",
    "(Withdrawal is not allowed if balance is going negative. Write functions for withdraw and deposit)\n",
    "D means deposit while W means withdrawal.\n",
    "Suppose the following input is supplied to the program:\n",
    "D 300\n",
    "D 300\n",
    "W 200\n",
    "D 100\n",
    "Then, the output should be:\n",
    "500"
   ]
  },
  {
   "cell_type": "code",
   "execution_count": 39,
   "metadata": {},
   "outputs": [
    {
     "name": "stdout",
     "output_type": "stream",
     "text": [
      "Enter number of transactions to be done :4\n",
      "D 80\n",
      "W 30\n",
      "W 20\n",
      "D 20\n",
      "Your bank balance now is : 50\n"
     ]
    }
   ],
   "source": [
    "#8\n",
    "n = int(input('Enter number of transactions to be done :'))\n",
    "A = []\n",
    "\n",
    "for i in range(n):\n",
    "    A.append(input())\n",
    "#print(A)\n",
    "\n",
    "def dep(S, bal):\n",
    "    bal = bal + int(S[1])\n",
    "    return bal\n",
    "def wit(S, bal):\n",
    "    bal = bal - int(S[1])\n",
    "    return bal\n",
    "    \n",
    "bal = 0\n",
    "for s in A:\n",
    "    S = s.split(' ')\n",
    "    if S[0] == 'D':\n",
    "        bal = dep(S, bal)\n",
    "    else:\n",
    "        bal = wit(S, bal)\n",
    "        if bal < 0:\n",
    "            print('You are withdrawing an amount more than your balance!')\n",
    "            break\n",
    "    if s == A[-1]:\n",
    "        print('Your bank balance now is :', bal)\n",
    "\n",
    "        "
   ]
  },
  {
   "cell_type": "markdown",
   "metadata": {},
   "source": [
    "10. A robot moves in a plane starting from the original point (0,0). The robot can move toward UP, DOWN, LEFT and RIGHT with a given steps. The trace of robot movement is shown as the following:\n",
    "UP 5\n",
    "DOWN 3\n",
    "LEFT 3\n",
    "RIGHT 2\n",
    "\n",
    "The numbers after the direction are steps. Please write a program to compute the distance from current position after a sequence of movement and original point. If the distance is a float, then just print the nearest integer.\n",
    "Example:\n",
    "If the following tuples are given as input to the program:\n",
    "UP 5\n",
    "DOWN 3\n",
    "LEFT 3\n",
    "RIGHT 2\n",
    "Then, the output of the program should be:\n",
    "2 (Use euclidean distance formula )"
   ]
  },
  {
   "cell_type": "code",
   "execution_count": 30,
   "metadata": {},
   "outputs": [
    {
     "name": "stdout",
     "output_type": "stream",
     "text": [
      "Number of steps:2\n",
      "UP 2\n",
      "RIGHT 3\n",
      "['UP', '2']\n",
      "['RIGHT', '3']\n",
      "(x, y) 3 2\n",
      "Distance : 3.605551275463989\n"
     ]
    }
   ],
   "source": [
    "#10\n",
    "import math as m\n",
    "n = int(input('Number of steps:'))\n",
    "A = []\n",
    "\n",
    "for i in range(n):\n",
    "    A.append(input())\n",
    "y = 0\n",
    "x = 0\n",
    "\n",
    "def up(S, x, y):\n",
    "    y += int(S[1])\n",
    "    return y\n",
    "def down(S, x, y):\n",
    "    y -= int(S[1])\n",
    "    return y\n",
    "def right(S, x, y):\n",
    "    x += int(S[1])\n",
    "    return x\n",
    "def left(S, x, y):\n",
    "    x -= int(S[1])\n",
    "    return x\n",
    "        \n",
    "for s in A:\n",
    "    S = s.split(' ')\n",
    "    print(S)\n",
    "    if S[0] == 'UP':\n",
    "        y = up(S, x, y)\n",
    "    elif S[0] == 'DOWN':\n",
    "        y = down(S, x, y)\n",
    "    elif S[0] == 'RIGHT':\n",
    "        x = right(S, x, y)\n",
    "    else:\n",
    "        x = left(S, x, y)\n",
    "print('(x, y)', x, y)\n",
    "print('Distance :', m.sqrt(x*x + y*y))\n",
    "\n"
   ]
  },
  {
   "cell_type": "markdown",
   "metadata": {},
   "source": [
    "7. Write a program that accepts a sentence and calculate the number of letters and digits.\n",
    "Suppose the following input is supplied to the program:\n",
    "hello world! 123\n",
    "Then, the output should be:\n",
    "LETTERS 10\n",
    "DIGITS 3"
   ]
  },
  {
   "cell_type": "code",
   "execution_count": 19,
   "metadata": {},
   "outputs": [
    {
     "name": "stdout",
     "output_type": "stream",
     "text": [
      "Hello World! 123\n",
      "Number of Letters is: 10\n",
      "Number of Digits is: 3\n"
     ]
    }
   ],
   "source": [
    "#7\n",
    "str = input()\n",
    "l = 0\n",
    "d = 0\n",
    "for i in str:\n",
    "    if i.isalpha():\n",
    "        l += 1\n",
    "    elif i.isnumeric():\n",
    "        d += 1\n",
    "print('Number of Letters is:', l)\n",
    "print('Number of Digits is:', d)"
   ]
  },
  {
   "cell_type": "markdown",
   "metadata": {},
   "source": [
    "9. A website requires the users to input username and password to register. Write a program to check the validity of password input by users.\n",
    "Following are the criteria for checking the password:\n",
    "1. At least 1 letter between [a-z]\n",
    "2. At least 1 number between [0-9]\n",
    "1. At least 1 letter between [A-Z]\n",
    "3. At least 1 character from [$#@]\n",
    "4. Minimum length of transaction password: 6\n",
    "5. Maximum length of transaction password: 12\n",
    "Your program should accept a sequence of comma separated passwords and will check them according to the above criteria. Passwords that match the criteria are to be printed, each separated by a comma.\n",
    "Example\n",
    "If the following passwords are given as input to the program:\n",
    "ABd1234@1,a F1#,2w3E*,2We3345\n",
    "Then, the output of the program should be:\n",
    "ABd1234@1"
   ]
  },
  {
   "cell_type": "code",
   "execution_count": 41,
   "metadata": {},
   "outputs": [
    {
     "name": "stdout",
     "output_type": "stream",
     "text": [
      "Akdhb7y@F,duhgrjhuhuf,euhygyjberv\n",
      "Akdhb7y@F\n"
     ]
    }
   ],
   "source": [
    "#9\n",
    "str = input()\n",
    "S = str.split(',')\n",
    "for s in S:\n",
    "    d=0; l=0; u=0; v = 0\n",
    "    if len(s) < 6 or len(s) > 12:\n",
    "       continue\n",
    "    for i in s:\n",
    "        if i.isnumeric():\n",
    "            d+=1\n",
    "        elif i.isupper():\n",
    "            u+=1\n",
    "        elif i.islower():\n",
    "            l+=1\n",
    "        elif i == '$' or i == '@' or i == '#':\n",
    "            v+=1\n",
    "    if d>0 and u>0 and l>0 and v>0:\n",
    "        print(s)\n"
   ]
  },
  {
   "cell_type": "markdown",
   "metadata": {},
   "source": [
    "12. Write a program which can filter even numbers in a list by using filter function. The list is: [1,2,3,4,5,6,7,8,9,10]."
   ]
  },
  {
   "cell_type": "code",
   "execution_count": 47,
   "metadata": {},
   "outputs": [
    {
     "name": "stdout",
     "output_type": "stream",
     "text": [
      "2\n",
      "4\n",
      "6\n",
      "8\n",
      "10\n"
     ]
    }
   ],
   "source": [
    "#12\n",
    "list1 = [1, 2, 3, 4, 5, 6, 7, 8, 9, 10]\n",
    "def fn(x):\n",
    "    if x%2==0:\n",
    "        return True\n",
    "    else:\n",
    "        return False\n",
    "\n",
    "list2 = filter(fn, list1)\n",
    "for s in list2:\n",
    "    print(s)"
   ]
  },
  {
   "cell_type": "markdown",
   "metadata": {},
   "source": [
    "13. Write a program which can map() to make a list whose elements are square root of elements in [1,2,3,4,5,6,7,8,9,10]."
   ]
  },
  {
   "cell_type": "code",
   "execution_count": 49,
   "metadata": {},
   "outputs": [
    {
     "name": "stdout",
     "output_type": "stream",
     "text": [
      "1.0\n",
      "1.4142135623730951\n",
      "1.7320508075688772\n",
      "2.0\n",
      "2.23606797749979\n",
      "2.449489742783178\n",
      "2.6457513110645907\n",
      "2.8284271247461903\n",
      "3.0\n",
      "3.1622776601683795\n"
     ]
    }
   ],
   "source": [
    "#13\n",
    "import math as m\n",
    "list1 = [1, 2, 3, 4, 5, 6, 7, 8, 9, 10]\n",
    "def sqrt(x):\n",
    "    return m.sqrt(x)\n",
    "\n",
    "list2 = map(sqrt, list1)\n",
    "for n in list2:\n",
    "    print(n)"
   ]
  },
  {
   "cell_type": "markdown",
   "metadata": {},
   "source": [
    "14. Write a program which can map() and filter() to make a list whose elements are square of even number in [1,2,3,4,5,6,7,8,9,10]."
   ]
  },
  {
   "cell_type": "code",
   "execution_count": 50,
   "metadata": {},
   "outputs": [
    {
     "name": "stdout",
     "output_type": "stream",
     "text": [
      "[2, 4, 6, 8, 10]\n",
      "[1.4142135623730951, 2.0, 2.449489742783178, 2.8284271247461903, 3.1622776601683795]\n"
     ]
    }
   ],
   "source": [
    "#14\n",
    "list1 = [1, 2, 3, 4, 5, 6, 7, 8, 9, 10]\n",
    "\n",
    "def even(x):\n",
    "    if x%2==0:\n",
    "        return True\n",
    "    else:\n",
    "        return False\n",
    "\n",
    "def sqrt(x):\n",
    "    return m.sqrt(x)\n",
    "\n",
    "list2 = list(filter(even, list1))\n",
    "list3 = list(map(sqrt, list2))\n",
    "print(list2)\n",
    "print(list3)"
   ]
  },
  {
   "cell_type": "markdown",
   "metadata": {},
   "source": [
    "11. Write a program to compute the frequency of the words from the input. The output should output after sorting the key alphanumerically. \n",
    "Suppose the following input is supplied to the program:\n",
    "New to Python or choosing between Python 2 and Python 3? Read Python 2 or Python 3.\n",
    "Then, the output should be:\n",
    "2:2\n",
    "3.:1\n",
    "3?:1\n",
    "New:1\n",
    "Python:5\n",
    "Read:1\n",
    "and:1\n",
    "between:1\n",
    "choosing:1\n",
    "or:2\n",
    "to:1"
   ]
  },
  {
   "cell_type": "code",
   "execution_count": 62,
   "metadata": {},
   "outputs": [
    {
     "name": "stdout",
     "output_type": "stream",
     "text": [
      "New to Python or choosing between Python 2 and Python 3? Read Python 2 or Python 3.\n",
      "['New', 'to', 'Python', 'or', 'choosing', 'between', 'Python', '2', 'and', 'Python', '3?', 'Read', 'Python', '2', 'or', 'Python', '3.']\n",
      "['2', '2', '3.', '3?', 'New', 'Python', 'Python', 'Python', 'Python', 'Python', 'Read', 'and', 'between', 'choosing', 'or', 'or', 'to']\n",
      "2 : 2\n",
      "3. : 1\n",
      "3? : 1\n",
      "New : 1\n",
      "Python : 5\n",
      "Read : 1\n",
      "and : 1\n",
      "between : 1\n",
      "choosing : 1\n",
      "or : 2\n",
      "to : 1\n"
     ]
    }
   ],
   "source": [
    "#11\n",
    "str = input()\n",
    "words = str.split(' ')\n",
    "dict = {}\n",
    "for w in words:\n",
    "    dict[w] = str.count(w)\n",
    "print(words)\n",
    "\n",
    "words.sort()\n",
    "print(words)\n",
    "list1 = []\n",
    "for w in words:\n",
    "    if w in list1:\n",
    "        continue\n",
    "    else:\n",
    "        list1.append(w)\n",
    "        print(w, ':', dict[w])"
   ]
  },
  {
   "cell_type": "code",
   "execution_count": null,
   "metadata": {},
   "outputs": [],
   "source": []
  }
 ],
 "metadata": {
  "kernelspec": {
   "display_name": "Python 3",
   "language": "python",
   "name": "python3"
  },
  "language_info": {
   "codemirror_mode": {
    "name": "ipython",
    "version": 3
   },
   "file_extension": ".py",
   "mimetype": "text/x-python",
   "name": "python",
   "nbconvert_exporter": "python",
   "pygments_lexer": "ipython3",
   "version": "3.7.4"
  }
 },
 "nbformat": 4,
 "nbformat_minor": 2
}
